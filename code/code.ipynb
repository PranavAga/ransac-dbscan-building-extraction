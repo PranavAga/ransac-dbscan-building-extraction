{
 "cells": [
  {
   "cell_type": "code",
   "execution_count": 1,
   "id": "9dd11443",
   "metadata": {},
   "outputs": [],
   "source": [
    "import os\n",
    "import laspy\n",
    "import numpy as np\n",
    "from tqdm import tqdm\n",
    "from scipy.spatial import cKDTree\n",
    "import matplotlib.pyplot as plt\n",
    "from sklearn.cluster import DBSCAN\n",
    "from scipy.spatial import cKDTree\n",
    "import pyproj\n",
    "import alphashape\n",
    "import geopandas as gpd\n",
    "from shapely.geometry import Polygon, MultiPolygon\n",
    "import warnings\n",
    "from pyransac3d import Plane\n",
    "import buildings"
   ]
  },
  {
   "cell_type": "code",
   "execution_count": 2,
   "id": "a6ef3574",
   "metadata": {},
   "outputs": [],
   "source": [
    "data_files = [\n",
    "    'USGS_LPC_AL_AGIO_B1_2016_16S_EB_2340_LAS_2018.laz',\n",
    "    'USGS_LPC_CT_Statewide_C16_250890_se.laz',\n",
    "    'USGS_LPC_GA_SW_Georgia_22_County_Lidar_2017_B17_GAW_20750320.laz',\n",
    "    'USGS_LPC_IA_NorthCentral_2020_D20_w4350n4631.laz',\n",
    "    'USGS_LPC_IL_8County_2020_A20_1035_8430.laz',\n",
    "    'USGS_LPC_IL_GrnMacMont_2017_2403_1011_LAS_2018.laz',\n",
    "    'USGS_LPC_IL_HicksDome_FluorsparDistrict_2019_D19_2339_5650.laz',\n",
    "    'USGS_LPC_KY_Eastern_2019_A19_e1174n1677.laz',\n",
    "    'USGS_LPC_MI_FEMA_2019_C19_845492.laz'\n",
    "]\n"
   ]
  },
  {
   "cell_type": "code",
   "execution_count": 3,
   "id": "d9b1c66a",
   "metadata": {},
   "outputs": [
    {
     "name": "stderr",
     "output_type": "stream",
     "text": [
      "Processing clusters: 100%|██████████| 753/753 [03:34<00:00,  3.51it/s]\n",
      "WARNING:root:Singular matrix. Likely caused by all points lying in an N-1 space.\n",
      "WARNING:root:Singular matrix. Likely caused by all points lying in an N-1 space.\n",
      "WARNING:root:Singular matrix. Likely caused by all points lying in an N-1 space.\n",
      "WARNING:root:Singular matrix. Likely caused by all points lying in an N-1 space.\n",
      "WARNING:root:Singular matrix. Likely caused by all points lying in an N-1 space.\n",
      "WARNING:root:Singular matrix. Likely caused by all points lying in an N-1 space.\n",
      "WARNING:root:Singular matrix. Likely caused by all points lying in an N-1 space.\n",
      "WARNING:root:Singular matrix. Likely caused by all points lying in an N-1 space.\n",
      "WARNING:root:Singular matrix. Likely caused by all points lying in an N-1 space.\n",
      "WARNING:root:Singular matrix. Likely caused by all points lying in an N-1 space.\n",
      "WARNING:root:Singular matrix. Likely caused by all points lying in an N-1 space.\n",
      "WARNING:root:Singular matrix. Likely caused by all points lying in an N-1 space.\n",
      "WARNING:root:Singular matrix. Likely caused by all points lying in an N-1 space.\n",
      "WARNING:root:Singular matrix. Likely caused by all points lying in an N-1 space.\n",
      "WARNING:root:Singular matrix. Likely caused by all points lying in an N-1 space.\n",
      "100%|██████████| 660/660 [01:18<00:00,  8.39it/s]\n",
      " 11%|█         | 1/9 [06:29<51:54, 389.26s/it]"
     ]
    },
    {
     "name": "stdout",
     "output_type": "stream",
     "text": [
      "GeoJSON saved to USGS_LPC_AL_AGIO_B1_2016_16S_EB_2340_LAS_2018_pred.geojson\n"
     ]
    },
    {
     "name": "stderr",
     "output_type": "stream",
     "text": [
      "C:\\Users\\drshw\\AppData\\Local\\Packages\\PythonSoftwareFoundation.Python.3.12_qbz5n2kfra8p0\\LocalCache\\local-packages\\Python312\\site-packages\\pyransac3d\\plane.py:59: RuntimeWarning: invalid value encountered in divide\n",
      "  vecC = vecC / np.linalg.norm(vecC)\n",
      "Processing clusters: 100%|██████████| 5034/5034 [05:08<00:00, 16.33it/s]\n",
      "WARNING:root:Singular matrix. Likely caused by all points lying in an N-1 space.\n",
      "WARNING:root:Singular matrix. Likely caused by all points lying in an N-1 space.\n",
      "WARNING:root:Singular matrix. Likely caused by all points lying in an N-1 space.\n",
      "WARNING:root:Singular matrix. Likely caused by all points lying in an N-1 space.\n",
      "WARNING:root:Singular matrix. Likely caused by all points lying in an N-1 space.\n",
      "WARNING:root:Singular matrix. Likely caused by all points lying in an N-1 space.\n",
      "WARNING:root:Singular matrix. Likely caused by all points lying in an N-1 space.\n",
      "WARNING:root:Singular matrix. Likely caused by all points lying in an N-1 space.\n",
      "100%|██████████| 3811/3811 [00:39<00:00, 96.08it/s] \n",
      " 22%|██▏       | 2/9 [12:55<45:13, 387.63s/it]WARNING:laspy.vlrs.known:Failed to parse <class 'laspy.vlrs.known.ClassificationLookupVlr'>: iterative unpacking requires a buffer of a multiple of 16 bytes\n"
     ]
    },
    {
     "name": "stdout",
     "output_type": "stream",
     "text": [
      "GeoJSON saved to USGS_LPC_CT_Statewide_C16_250890_se_pred.geojson\n"
     ]
    },
    {
     "name": "stderr",
     "output_type": "stream",
     "text": [
      "C:\\Users\\drshw\\AppData\\Local\\Packages\\PythonSoftwareFoundation.Python.3.12_qbz5n2kfra8p0\\LocalCache\\local-packages\\Python312\\site-packages\\pyransac3d\\plane.py:59: RuntimeWarning: invalid value encountered in divide\n",
      "  vecC = vecC / np.linalg.norm(vecC)\n",
      "Processing clusters: 100%|██████████| 14804/14804 [14:23<00:00, 17.15it/s]\n",
      "WARNING:root:Singular matrix. Likely caused by all points lying in an N-1 space.\n",
      "WARNING:root:Singular matrix. Likely caused by all points lying in an N-1 space.\n",
      "WARNING:root:Singular matrix. Likely caused by all points lying in an N-1 space.\n",
      "WARNING:root:Singular matrix. Likely caused by all points lying in an N-1 space.\n",
      "WARNING:root:Singular matrix. Likely caused by all points lying in an N-1 space.\n",
      "WARNING:root:Singular matrix. Likely caused by all points lying in an N-1 space.\n",
      "WARNING:root:Singular matrix. Likely caused by all points lying in an N-1 space.\n",
      "WARNING:root:Singular matrix. Likely caused by all points lying in an N-1 space.\n",
      "WARNING:root:Singular matrix. Likely caused by all points lying in an N-1 space.\n",
      "WARNING:root:Singular matrix. Likely caused by all points lying in an N-1 space.\n",
      "WARNING:root:Singular matrix. Likely caused by all points lying in an N-1 space.\n",
      "100%|██████████| 10816/10816 [01:13<00:00, 147.21it/s]\n",
      " 33%|███▎      | 3/9 [30:55<1:10:21, 703.55s/it]"
     ]
    },
    {
     "name": "stdout",
     "output_type": "stream",
     "text": [
      "GeoJSON saved to USGS_LPC_GA_SW_Georgia_22_County_Lidar_2017_B17_GAW_20750320_pred.geojson\n"
     ]
    },
    {
     "name": "stderr",
     "output_type": "stream",
     "text": [
      "Processing clusters: 100%|██████████| 706/706 [00:42<00:00, 16.59it/s]\n",
      "WARNING:root:Singular matrix. Likely caused by all points lying in an N-1 space.\n",
      "WARNING:root:Singular matrix. Likely caused by all points lying in an N-1 space.\n",
      "WARNING:root:Singular matrix. Likely caused by all points lying in an N-1 space.\n",
      "WARNING:root:Singular matrix. Likely caused by all points lying in an N-1 space.\n",
      "WARNING:root:Singular matrix. Likely caused by all points lying in an N-1 space.\n",
      "WARNING:root:Singular matrix. Likely caused by all points lying in an N-1 space.\n",
      "WARNING:root:Singular matrix. Likely caused by all points lying in an N-1 space.\n",
      "WARNING:root:Singular matrix. Likely caused by all points lying in an N-1 space.\n",
      "WARNING:root:Singular matrix. Likely caused by all points lying in an N-1 space.\n",
      "WARNING:root:Singular matrix. Likely caused by all points lying in an N-1 space.\n",
      "WARNING:root:Singular matrix. Likely caused by all points lying in an N-1 space.\n",
      "WARNING:root:Singular matrix. Likely caused by all points lying in an N-1 space.\n",
      "WARNING:root:Singular matrix. Likely caused by all points lying in an N-1 space.\n",
      "WARNING:root:Singular matrix. Likely caused by all points lying in an N-1 space.\n",
      "WARNING:root:Singular matrix. Likely caused by all points lying in an N-1 space.\n",
      "WARNING:root:Singular matrix. Likely caused by all points lying in an N-1 space.\n",
      "100%|██████████| 673/673 [00:20<00:00, 33.23it/s]\n",
      " 44%|████▍     | 4/9 [32:10<37:58, 455.69s/it]  "
     ]
    },
    {
     "name": "stdout",
     "output_type": "stream",
     "text": [
      "GeoJSON saved to USGS_LPC_IA_NorthCentral_2020_D20_w4350n4631_pred.geojson\n"
     ]
    },
    {
     "name": "stderr",
     "output_type": "stream",
     "text": [
      "Processing clusters: 100%|██████████| 3569/3569 [03:28<00:00, 17.10it/s]\n",
      "WARNING:root:Singular matrix. Likely caused by all points lying in an N-1 space.\n",
      "100%|██████████| 2188/2188 [00:15<00:00, 143.28it/s]\n",
      " 56%|█████▌    | 5/9 [36:09<25:10, 377.51s/it]"
     ]
    },
    {
     "name": "stdout",
     "output_type": "stream",
     "text": [
      "GeoJSON saved to USGS_LPC_IL_8County_2020_A20_1035_8430_pred.geojson\n"
     ]
    },
    {
     "name": "stderr",
     "output_type": "stream",
     "text": [
      "C:\\Users\\drshw\\AppData\\Local\\Packages\\PythonSoftwareFoundation.Python.3.12_qbz5n2kfra8p0\\LocalCache\\local-packages\\Python312\\site-packages\\pyransac3d\\plane.py:59: RuntimeWarning: invalid value encountered in divide\n",
      "  vecC = vecC / np.linalg.norm(vecC)\n",
      "Processing clusters: 100%|██████████| 895/895 [00:50<00:00, 17.57it/s]\n",
      "100%|██████████| 734/734 [00:05<00:00, 136.72it/s]\n",
      " 67%|██████▋   | 6/9 [37:14<13:33, 271.17s/it]"
     ]
    },
    {
     "name": "stdout",
     "output_type": "stream",
     "text": [
      "GeoJSON saved to USGS_LPC_IL_GrnMacMont_2017_2403_1011_LAS_2018_pred.geojson\n"
     ]
    },
    {
     "name": "stderr",
     "output_type": "stream",
     "text": [
      "Processing clusters: 100%|██████████| 396/396 [00:22<00:00, 17.64it/s]\n",
      "100%|██████████| 116/116 [00:00<00:00, 271.66it/s]\n",
      " 78%|███████▊  | 7/9 [37:47<06:26, 193.15s/it]"
     ]
    },
    {
     "name": "stdout",
     "output_type": "stream",
     "text": [
      "GeoJSON saved to USGS_LPC_IL_HicksDome_FluorsparDistrict_2019_D19_2339_5650_pred.geojson\n"
     ]
    },
    {
     "name": "stderr",
     "output_type": "stream",
     "text": [
      "Processing clusters: 100%|██████████| 448/448 [03:31<00:00,  2.12it/s]\n",
      "WARNING:root:Singular matrix. Likely caused by all points lying in an N-1 space.\n",
      "WARNING:root:Singular matrix. Likely caused by all points lying in an N-1 space.\n",
      "WARNING:root:Singular matrix. Likely caused by all points lying in an N-1 space.\n",
      "WARNING:root:Singular matrix. Likely caused by all points lying in an N-1 space.\n",
      "WARNING:root:Singular matrix. Likely caused by all points lying in an N-1 space.\n",
      "100%|██████████| 409/409 [01:28<00:00,  4.61it/s] \n",
      " 89%|████████▉ | 8/9 [45:28<04:38, 278.41s/it]"
     ]
    },
    {
     "name": "stdout",
     "output_type": "stream",
     "text": [
      "GeoJSON saved to USGS_LPC_KY_Eastern_2019_A19_e1174n1677_pred.geojson\n"
     ]
    },
    {
     "name": "stderr",
     "output_type": "stream",
     "text": [
      "C:\\Users\\drshw\\AppData\\Local\\Packages\\PythonSoftwareFoundation.Python.3.12_qbz5n2kfra8p0\\LocalCache\\local-packages\\Python312\\site-packages\\pyransac3d\\plane.py:59: RuntimeWarning: invalid value encountered in divide\n",
      "  vecC = vecC / np.linalg.norm(vecC)\n",
      "Processing clusters: 100%|██████████| 12529/12529 [11:57<00:00, 17.45it/s]\n",
      "WARNING:root:Singular matrix. Likely caused by all points lying in an N-1 space.\n",
      "WARNING:root:Singular matrix. Likely caused by all points lying in an N-1 space.\n",
      "WARNING:root:Singular matrix. Likely caused by all points lying in an N-1 space.\n",
      "WARNING:root:Singular matrix. Likely caused by all points lying in an N-1 space.\n",
      "WARNING:root:Singular matrix. Likely caused by all points lying in an N-1 space.\n",
      "WARNING:root:Singular matrix. Likely caused by all points lying in an N-1 space.\n",
      "WARNING:root:Singular matrix. Likely caused by all points lying in an N-1 space.\n",
      "WARNING:root:Singular matrix. Likely caused by all points lying in an N-1 space.\n",
      "WARNING:root:Singular matrix. Likely caused by all points lying in an N-1 space.\n",
      "WARNING:root:Singular matrix. Likely caused by all points lying in an N-1 space.\n",
      "WARNING:root:Singular matrix. Likely caused by all points lying in an N-1 space.\n",
      "WARNING:root:Singular matrix. Likely caused by all points lying in an N-1 space.\n",
      "WARNING:root:Singular matrix. Likely caused by all points lying in an N-1 space.\n",
      "WARNING:root:Singular matrix. Likely caused by all points lying in an N-1 space.\n",
      "WARNING:root:Singular matrix. Likely caused by all points lying in an N-1 space.\n",
      "WARNING:root:Singular matrix. Likely caused by all points lying in an N-1 space.\n",
      "WARNING:root:Singular matrix. Likely caused by all points lying in an N-1 space.\n",
      "WARNING:root:Singular matrix. Likely caused by all points lying in an N-1 space.\n",
      "WARNING:root:Singular matrix. Likely caused by all points lying in an N-1 space.\n",
      "WARNING:root:Singular matrix. Likely caused by all points lying in an N-1 space.\n",
      "WARNING:root:Singular matrix. Likely caused by all points lying in an N-1 space.\n",
      "100%|██████████| 8245/8245 [00:15<00:00, 539.30it/s]\n",
      "100%|██████████| 9/9 [58:55<00:00, 392.84s/it]"
     ]
    },
    {
     "name": "stdout",
     "output_type": "stream",
     "text": [
      "GeoJSON saved to USGS_LPC_MI_FEMA_2019_C19_845492_pred.geojson\n"
     ]
    },
    {
     "name": "stderr",
     "output_type": "stream",
     "text": [
      "\n"
     ]
    }
   ],
   "source": [
    "for laz_file in tqdm(data_files):\n",
    "    buildings.generate_footprints(laz_file)"
   ]
  },
  {
   "cell_type": "code",
   "execution_count": null,
   "id": "e20db827",
   "metadata": {},
   "outputs": [],
   "source": []
  }
 ],
 "metadata": {
  "kernelspec": {
   "display_name": "Python 3",
   "language": "python",
   "name": "python3"
  },
  "language_info": {
   "codemirror_mode": {
    "name": "ipython",
    "version": 3
   },
   "file_extension": ".py",
   "mimetype": "text/x-python",
   "name": "python",
   "nbconvert_exporter": "python",
   "pygments_lexer": "ipython3",
   "version": "3.12.10"
  }
 },
 "nbformat": 4,
 "nbformat_minor": 5
}
